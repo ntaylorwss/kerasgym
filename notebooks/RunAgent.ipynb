{
 "cells": [
  {
   "cell_type": "code",
   "execution_count": null,
   "metadata": {},
   "outputs": [],
   "source": [
    "import os\n",
    "os.chdir('/home')\n",
    "\n",
    "import numpy as np\n",
    "import pandas as pd\n",
    "import gym\n",
    "\n",
    "from pavlov import pipeline\n",
    "from pavlov.pipeline import transformations\n",
    "from pavlov import models\n",
    "from pavlov import actors\n",
    "from pavlov import agents\n",
    "from pavlov import auxiliary\n",
    "\n",
    "from keras import optimizers"
   ]
  },
  {
   "cell_type": "code",
   "execution_count": null,
   "metadata": {},
   "outputs": [],
   "source": [
    "# CARTPOLE\n",
    "\n",
    "env = gym.make('Breakout-v0')\n",
    "\n",
    "topology_config = {\n",
    "    'layer_sizes': [128],\n",
    "    'activation': 'relu'\n",
    "}\n",
    "topology = models.topology.DenseTopology(**topology_config)\n",
    "\n",
    "dqn_config = {\n",
    "    'gamma': 0.99,\n",
    "    'tau': 1.0,\n",
    "    'optimizer': optimizers.Adam(0.0001)\n",
    "}\n",
    "model = models.DQNModel(topology, **dqn_config)\n",
    "\n",
    "epsilon_schedule = auxiliary.schedules.LinearDecay(1.0, 0.1, 500, -1)\n",
    "actor = actors.EpsilonGreedyActor(epsilon_schedule)\n",
    "buffer_size = 10000\n",
    "batch_size = 64\n",
    "\n",
    "pipeline = pipeline.Pipeline()\n",
    "pipeline.add(transformations.rgb_to_grey())\n",
    "pipeline.add(transformations.downsample(new_shape=(84, 84)))\n",
    "pipeline.add(transformations.combine_consecutive(2, 'max'))\n",
    "pipeline.add(transformations.stack_consecutive(4))\n",
    "\n",
    "agent = agents.Agent(env,\n",
    "                     state_pipeline=pipeline,\n",
    "                     model=model, actor=actor,\n",
    "                     buffer_size=buffer_size, batch_size=batch_size,\n",
    "                     report_freq=1, warmup_length=50)\n",
    "agent.run_indefinitely()"
   ]
  }
 ],
 "metadata": {
  "kernelspec": {
   "display_name": "Python 3",
   "language": "python",
   "name": "python3"
  },
  "language_info": {
   "codemirror_mode": {
    "name": "ipython",
    "version": 3
   },
   "file_extension": ".py",
   "mimetype": "text/x-python",
   "name": "python",
   "nbconvert_exporter": "python",
   "pygments_lexer": "ipython3",
   "version": "3.6.3"
  }
 },
 "nbformat": 4,
 "nbformat_minor": 2
}
