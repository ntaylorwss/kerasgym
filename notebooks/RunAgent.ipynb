{
 "cells": [
  {
   "cell_type": "code",
   "execution_count": 1,
   "metadata": {},
   "outputs": [
    {
     "name": "stderr",
     "output_type": "stream",
     "text": [
      "Using TensorFlow backend.\n"
     ]
    }
   ],
   "source": [
    "import os\n",
    "os.chdir('/home')\n",
    "\n",
    "import numpy as np\n",
    "import pandas as pd\n",
    "import gym\n",
    "\n",
    "from pavlov import pipeline\n",
    "from pavlov.pipeline import transformations\n",
    "from pavlov import models\n",
    "from pavlov import actors\n",
    "from pavlov import agents\n",
    "from pavlov import auxiliary\n",
    "\n",
    "from keras import optimizers"
   ]
  },
  {
   "cell_type": "code",
   "execution_count": 2,
   "metadata": {},
   "outputs": [
    {
     "name": "stdout",
     "output_type": "stream",
     "text": [
      "\u001b[33mWARN: gym.spaces.Box autodetected dtype as <class 'numpy.float32'>. Please provide explicit dtype.\u001b[0m\n"
     ]
    }
   ],
   "source": [
    "env = gym.make('CartPole-v0')\n",
    "\n",
    "topology_config = {\n",
    "    'layer_sizes': [128],\n",
    "    'activation': 'relu'\n",
    "}\n",
    "topology = models.topology.DenseTopology(**topology_config)\n",
    "dqn_config = {\n",
    "    'gamma': 0.99,\n",
    "    'tau': 1.0,\n",
    "    'optimizer': optimizers.Adam(0.0001)\n",
    "}\n",
    "model = models.DQNModel(topology, **dqn_config)\n",
    "\n",
    "epsilon_schedule = auxiliary.schedules.LinearDecay(1.0, 0.1, 500, -1)\n",
    "actor = actors.EpsilonGreedyActor(epsilon_schedule)\n",
    "buffer_size = 10000\n",
    "batch_size = 64\n",
    "\n",
    "pline = pipeline.Pipeline()\n",
    "agent = agents.Agent(env,\n",
    "                     state_pipeline=pline,\n",
    "                     model=model, actor=actor,\n",
    "                     buffer_size=buffer_size, batch_size=batch_size,\n",
    "                     report_freq=1, warmup_length=50)"
   ]
  },
  {
   "cell_type": "code",
   "execution_count": 2,
   "metadata": {},
   "outputs": [
    {
     "name": "stderr",
     "output_type": "stream",
     "text": [
      "/usr/local/lib/python3.6/dist-packages/skimage/transform/_warps.py:105: UserWarning: The default mode, 'constant', will be changed to 'reflect' in skimage 0.15.\n",
      "  warn(\"The default mode, 'constant', will be changed to 'reflect' in \"\n",
      "/usr/local/lib/python3.6/dist-packages/skimage/transform/_warps.py:110: UserWarning: Anti-aliasing will be enabled by default in skimage 0.15 to avoid aliasing artifacts when down-sampling images.\n",
      "  warn(\"Anti-aliasing will be enabled by default in skimage 0.15 to \"\n"
     ]
    },
    {
     "name": "stdout",
     "output_type": "stream",
     "text": [
      "End of episode 1. Last 1 episodes: Average reward: 3.0. Average duration: 327.0.\n"
     ]
    }
   ],
   "source": [
    "# CARTPOLE\n",
    "\n",
    "env = gym.make('Breakout-v0')\n",
    "\n",
    "topology_config = {\n",
    "    'layer_sizes': [128],\n",
    "    'activation': 'relu'\n",
    "}\n",
    "topology = models.topology.DenseTopology(**topology_config)\n",
    "\n",
    "dqn_config = {\n",
    "    'gamma': 0.99,\n",
    "    'tau': 1.0,\n",
    "    'optimizer': optimizers.Adam(0.0001)\n",
    "}\n",
    "model = models.DQNModel(topology, **dqn_config)\n",
    "\n",
    "epsilon_schedule = auxiliary.schedules.LinearDecay(1.0, 0.1, 500, -1)\n",
    "actor = actors.EpsilonGreedyActor(epsilon_schedule)\n",
    "buffer_size = 10000\n",
    "batch_size = 64\n",
    "\n",
    "pline = pipeline.Pipeline()\n",
    "pline.add(transformations.rgb_to_grey())\n",
    "pline.add(transformations.downsample(new_shape=(84, 84)))\n",
    "pline.add(transformations.combine_consecutive(2, 'max'))\n",
    "pline.add(transformations.stack_consecutive(4))\n",
    "\n",
    "agent = agents.Agent(env,\n",
    "                     state_pipeline=pline,\n",
    "                     model=model, actor=actor,\n",
    "                     buffer_size=buffer_size, batch_size=batch_size,\n",
    "                     report_freq=1, warmup_length=5)\n",
    "agent.run_episode(render=True)"
   ]
  },
  {
   "cell_type": "code",
   "execution_count": 3,
   "metadata": {},
   "outputs": [],
   "source": [
    "agent.episode_to_mp4(1, '/home/videos')"
   ]
  }
 ],
 "metadata": {
  "kernelspec": {
   "display_name": "Python 3",
   "language": "python",
   "name": "python3"
  },
  "language_info": {
   "codemirror_mode": {
    "name": "ipython",
    "version": 3
   },
   "file_extension": ".py",
   "mimetype": "text/x-python",
   "name": "python",
   "nbconvert_exporter": "python",
   "pygments_lexer": "ipython3",
   "version": "3.6.5"
  }
 },
 "nbformat": 4,
 "nbformat_minor": 2
}
