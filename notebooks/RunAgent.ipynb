{
 "cells": [
  {
   "cell_type": "code",
   "execution_count": 1,
   "metadata": {},
   "outputs": [
    {
     "name": "stderr",
     "output_type": "stream",
     "text": [
      "Using TensorFlow backend.\n"
     ]
    }
   ],
   "source": [
    "import os\n",
    "os.chdir('/home')\n",
    "\n",
    "from warnings import filterwarnings\n",
    "filterwarnings('ignore', module='skimage')\n",
    "\n",
    "import numpy as np\n",
    "import pandas as pd\n",
    "import gym\n",
    "\n",
    "from IPython import display\n",
    "import matplotlib.pyplot as plt\n",
    "%matplotlib inline\n",
    "\n",
    "from kerasgym.models import cnn_model_base, dense_model_base, DDPGModel, DQNModel\n",
    "from kerasgym.agents import Agent\n",
    "from kerasgym.agents.processing import downsample, rgb_to_binary\n",
    "from kerasgym.agents.processing import stack_consecutive, combine_consecutive\n",
    "from kerasgym.agents.schedules import LinearDecay, ScopingPeriodic\n",
    "from kerasgym.agents.actors import EpsilonGreedyActor\n",
    "from keras.optimizers import RMSprop, Adam\n",
    "\n",
    "from kerasgym.agents.schedules import graph_schedule"
   ]
  },
  {
   "cell_type": "code",
   "execution_count": 2,
   "metadata": {},
   "outputs": [
    {
     "name": "stdout",
     "output_type": "stream",
     "text": [
      "\u001b[33mWARN: gym.spaces.Box autodetected dtype as <class 'numpy.float32'>. Please provide explicit dtype.\u001b[0m\n"
     ]
    }
   ],
   "source": [
    "# CARTPOLE\n",
    "\n",
    "env = gym.make('CartPole-v1')\n",
    "env.reset()\n",
    "\n",
    "base_config = {\n",
    "    'in_shape': env.observation_space.shape,\n",
    "    'layer_sizes': [64, 32, 16],\n",
    "    'activation': 'relu'\n",
    "}\n",
    "base_model = dense_model_base(**base_config)\n",
    "\n",
    "dqn_config = {\n",
    "    'gamma': 0.99,\n",
    "    'tau': 1.0,\n",
    "    'optimizer': Adam(lr=0.001)\n",
    "}\n",
    "model = DQNModel(base_model, **dqn_config)\n",
    "\n",
    "schedule = LinearDecay(1.0, 0.1, 500, -1)\n",
    "actor = EpsilonGreedyActor(epsilon_schedule=schedule)\n",
    "buffer_size = 10000\n",
    "batch_size = 32\n",
    "\n",
    "agent = Agent(env, state_pipeline=[], model=model, actor=actor, \n",
    "              buffer_size=buffer_size, batch_size=batch_size,\n",
    "              report_freq=10, warmup_length=0)\n",
    "agent.reset()\n",
    "#agent.run_episode()"
   ]
  },
  {
   "cell_type": "code",
   "execution_count": 3,
   "metadata": {},
   "outputs": [
    {
     "name": "stdout",
     "output_type": "stream",
     "text": [
      "End of episode 10. Last 10 episodes: Average reward: 17.7. Average duration: 17.7.\n",
      "End of episode 20. Last 10 episodes: Average reward: 20.6. Average duration: 20.6.\n",
      "End of episode 30. Last 10 episodes: Average reward: 22.2. Average duration: 22.2.\n",
      "End of episode 40. Last 10 episodes: Average reward: 19.4. Average duration: 19.4.\n",
      "End of episode 50. Last 10 episodes: Average reward: 28.7. Average duration: 28.7.\n",
      "End of episode 60. Last 10 episodes: Average reward: 19.6. Average duration: 19.6.\n",
      "End of episode 70. Last 10 episodes: Average reward: 23.4. Average duration: 23.4.\n",
      "End of episode 80. Last 10 episodes: Average reward: 29.2. Average duration: 29.2.\n",
      "End of episode 90. Last 10 episodes: Average reward: 20.6. Average duration: 20.6.\n",
      "End of episode 100. Last 10 episodes: Average reward: 23.1. Average duration: 23.1.\n",
      "End of episode 110. Last 10 episodes: Average reward: 27.5. Average duration: 27.5.\n",
      "End of episode 120. Last 10 episodes: Average reward: 28.4. Average duration: 28.4.\n",
      "End of episode 130. Last 10 episodes: Average reward: 42.1. Average duration: 42.1.\n",
      "End of episode 140. Last 10 episodes: Average reward: 34.6. Average duration: 34.6.\n",
      "End of episode 150. Last 10 episodes: Average reward: 28.1. Average duration: 28.1.\n",
      "End of episode 160. Last 10 episodes: Average reward: 57.8. Average duration: 57.8.\n",
      "End of episode 170. Last 10 episodes: Average reward: 38.3. Average duration: 38.3.\n",
      "End of episode 180. Last 10 episodes: Average reward: 23.1. Average duration: 23.1.\n",
      "End of episode 190. Last 10 episodes: Average reward: 53.7. Average duration: 53.7.\n",
      "End of episode 200. Last 10 episodes: Average reward: 55.3. Average duration: 55.3.\n",
      "End of episode 210. Last 10 episodes: Average reward: 43.7. Average duration: 43.7.\n",
      "End of episode 220. Last 10 episodes: Average reward: 68.5. Average duration: 68.5.\n",
      "End of episode 230. Last 10 episodes: Average reward: 63.6. Average duration: 63.6.\n",
      "End of episode 240. Last 10 episodes: Average reward: 83.5. Average duration: 83.5.\n",
      "End of episode 250. Last 10 episodes: Average reward: 123.6. Average duration: 123.6.\n",
      "End of episode 260. Last 10 episodes: Average reward: 121.0. Average duration: 121.0.\n",
      "End of episode 270. Last 10 episodes: Average reward: 118.6. Average duration: 118.6.\n",
      "End of episode 280. Last 10 episodes: Average reward: 135.9. Average duration: 135.9.\n",
      "End of episode 290. Last 10 episodes: Average reward: 171.6. Average duration: 171.6.\n",
      "End of episode 300. Last 10 episodes: Average reward: 136.5. Average duration: 136.5.\n",
      "End of episode 310. Last 10 episodes: Average reward: 129.7. Average duration: 129.7.\n",
      "End of episode 320. Last 10 episodes: Average reward: 185.9. Average duration: 185.9.\n",
      "End of episode 330. Last 10 episodes: Average reward: 125.3. Average duration: 125.3.\n",
      "End of episode 340. Last 10 episodes: Average reward: 161.3. Average duration: 161.3.\n",
      "End of episode 350. Last 10 episodes: Average reward: 152.0. Average duration: 152.0.\n",
      "End of episode 360. Last 10 episodes: Average reward: 138.9. Average duration: 138.9.\n",
      "End of episode 370. Last 10 episodes: Average reward: 186.7. Average duration: 186.7.\n",
      "End of episode 380. Last 10 episodes: Average reward: 195.5. Average duration: 195.5.\n",
      "End of episode 390. Last 10 episodes: Average reward: 196.8. Average duration: 196.8.\n",
      "End of episode 400. Last 10 episodes: Average reward: 164.7. Average duration: 164.7.\n",
      "End of episode 410. Last 10 episodes: Average reward: 11.0. Average duration: 11.0.\n",
      "End of episode 420. Last 10 episodes: Average reward: 132.0. Average duration: 132.0.\n",
      "End of episode 430. Last 10 episodes: Average reward: 92.1. Average duration: 92.1.\n",
      "End of episode 440. Last 10 episodes: Average reward: 57.8. Average duration: 57.8.\n",
      "End of episode 450. Last 10 episodes: Average reward: 65.8. Average duration: 65.8.\n",
      "End of episode 460. Last 10 episodes: Average reward: 61.4. Average duration: 61.4.\n",
      "End of episode 470. Last 10 episodes: Average reward: 71.8. Average duration: 71.8.\n",
      "End of episode 480. Last 10 episodes: Average reward: 69.0. Average duration: 69.0.\n",
      "End of episode 490. Last 10 episodes: Average reward: 48.1. Average duration: 48.1.\n",
      "End of episode 500. Last 10 episodes: Average reward: 9.1. Average duration: 9.1.\n",
      "End of episode 510. Last 10 episodes: Average reward: 11.9. Average duration: 11.9.\n",
      "End of episode 520. Last 10 episodes: Average reward: 9.4. Average duration: 9.4.\n",
      "End of episode 530. Last 10 episodes: Average reward: 8.9. Average duration: 8.9.\n",
      "End of episode 540. Last 10 episodes: Average reward: 9.8. Average duration: 9.8.\n",
      "End of episode 550. Last 10 episodes: Average reward: 106.3. Average duration: 106.3.\n",
      "Stopping.\n"
     ]
    }
   ],
   "source": [
    "agent.run_indefinitely()"
   ]
  },
  {
   "cell_type": "code",
   "execution_count": 23,
   "metadata": {},
   "outputs": [
    {
     "data": {
      "text/plain": [
       "0"
      ]
     },
     "execution_count": 23,
     "metadata": {},
     "output_type": "execute_result"
    },
    {
     "data": {
      "image/png": "[encoded data removed]",
      "text/plain": [
       "<Figure size 432x288 with 1 Axes>"
      ]
     },
     "metadata": {},
     "output_type": "display_data"
    }
   ],
   "source": [
    "s = LinearDecay(0.9, 0.1, 0.0001)\n",
    "graph_schedule(s, 1000)\n",
    "s.t"
   ]
  },
  {
   "cell_type": "code",
   "execution_count": null,
   "metadata": {},
   "outputs": [],
   "source": []
  },
  {
   "cell_type": "code",
   "execution_count": 2,
   "metadata": {},
   "outputs": [],
   "source": [
    "s = ScopingPeriodic(0.9, 0.1, 10000)"
   ]
  },
  {
   "cell_type": "code",
   "execution_count": 10,
   "metadata": {},
   "outputs": [
    {
     "data": {
      "text/plain": [
       "0.3987268717780482"
      ]
     },
     "execution_count": 10,
     "metadata": {},
     "output_type": "execute_result"
    }
   ],
   "source": [
    "s._periodic(1000)"
   ]
  },
  {
   "cell_type": "code",
   "execution_count": null,
   "metadata": {},
   "outputs": [],
   "source": [
    "# MOUNTAIN CAR\n",
    "\n",
    "env = gym.make('MountainCarContinuous-v0')\n",
    "env.reset()\n",
    "\n",
    "base_config = {\n",
    "    'in_shape': env.observation_space.shape,\n",
    "    'layer_sizes': [16, 16],\n",
    "    'activation': 'relu'\n",
    "}\n",
    "\n",
    "base_model = dense_model_base(**base_config)\n",
    "\n",
    "ddpg_config = {\n",
    "    'action_dim': env.ac`tion_space.shape[0],\n",
    "    'actor_activation': 'softmax',\n",
    "    'gamma': 0.99,\n",
    "    'tau': 0.125,\n",
    "    'actor_alpha': 1e-3,\n",
    "    'critic_alpha': 1e-3\n",
    "}\n",
    "model = DDPGModel(base_model, **ddpg_config)\n",
    "\n",
    "schedule = LinearDecay(1.0, 0.1, 500, -1)\n",
    "explorer = EpsilonGreedy(schedule, discrete=False)\n",
    "buffer_size = 10000\n",
    "batch_size = 32\n",
    "\n",
    "agent = Agent(env,\n",
    "              state_processing_fns=[],\n",
    "              model=model, ptoc_fn=lambda x,y: return x,\n",
    "              ctol_fn=lambda x,y: return x,\n",
    "              explorer=explorer, buffer_size=buffer_size,\n",
    "              batch_size=batch_size, warmup_length=0)\n",
    "agent.reset()\n",
    "agent.run_indefinitely()"
   ]
  },
  {
   "cell_type": "code",
   "execution_count": null,
   "metadata": {},
   "outputs": [],
   "source": [
    "# BREAKOUT\n",
    "\n",
    "# env\n",
    "env = gym.make('BreakoutDeterministic-v4')\n",
    "env.reset()\n",
    "\n",
    "# custom shape due to downsampling and stacking\n",
    "shape = (105, 80, 4)\n",
    "\n",
    "# model\n",
    "base_config = {\n",
    "    'in_shape': shape,\n",
    "    'conv_layer_sizes': [16, 32],\n",
    "    'fc_layer_sizes': [256],\n",
    "    'kernel_sizes': [(8,8), (4,4)],\n",
    "    'strides': [(4,4), (2,2)],\n",
    "    'activation': 'relu'\n",
    "}\n",
    "\n",
    "base_model = cnn_model_base(**base_config)\n",
    "\n",
    "dqn_config = {\n",
    "    'action_dim': env.action_space.n,\n",
    "    'gamma': 0.99,\n",
    "    'tau': 0.15,\n",
    "    'optimizer': RMSprop(lr=0.00025, rho=0.95, epsilon=0.01)\n",
    "}\n",
    "model = DQNModel(base_model, **dqn_config)\n",
    "\n",
    "schedule = LinearDecay(1.0, 0.1, 1000000, interval=1)\n",
    "explorer = EpsilonGreedy(schedule)\n",
    "buffer_size = 100000\n",
    "batch_size = 32\n",
    "\n",
    "agent = Agent(env,\n",
    "              state_processing_fns=[downsample(shape[:-1]), rgb_to_binary(),\n",
    "                                    #combine_consecutive(fun='diff'),\n",
    "                                    stack_consecutive(4)],\n",
    "              model=model, ptoc_fn=argmax_scalar(),\n",
    "              ctol_fn=scalar_to_onehot(),\n",
    "              explorer=explorer, buffer_size=buffer_size,\n",
    "              batch_size=batch_size, warmup_length=50000,\n",
    "              state_dtype=np.uint8)\n",
    "agent.reset()"
   ]
  },
  {
   "cell_type": "code",
   "execution_count": null,
   "metadata": {},
   "outputs": [],
   "source": [
    "agent.run_indefinitely()"
   ]
  }
 ],
 "metadata": {
  "kernelspec": {
   "display_name": "Python 3",
   "language": "python",
   "name": "python3"
  },
  "language_info": {
   "codemirror_mode": {
    "name": "ipython",
    "version": 3
   },
   "file_extension": ".py",
   "mimetype": "text/x-python",
   "name": "python",
   "nbconvert_exporter": "python",
   "pygments_lexer": "ipython3",
   "version": "3.6.3"
  }
 },
 "nbformat": 4,
 "nbformat_minor": 2
}
