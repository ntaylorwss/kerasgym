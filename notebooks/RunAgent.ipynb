{
 "cells": [
  {
   "cell_type": "code",
   "execution_count": 1,
   "metadata": {},
   "outputs": [
    {
     "name": "stderr",
     "output_type": "stream",
     "text": [
      "Using TensorFlow backend.\n"
     ]
    }
   ],
   "source": [
    "import os\n",
    "os.chdir('/home')\n",
    "\n",
    "import numpy as np\n",
    "import pandas as pd\n",
    "import gym\n",
    "\n",
    "from pavlov import pipeline\n",
    "from pavlov.pipeline import transformations\n",
    "from pavlov import models\n",
    "from pavlov import actors\n",
    "from pavlov import agents\n",
    "from pavlov import auxiliary\n",
    "\n",
    "from keras import optimizers"
   ]
  },
  {
   "cell_type": "code",
   "execution_count": 2,
   "metadata": {},
   "outputs": [
    {
     "name": "stdout",
     "output_type": "stream",
     "text": [
      "\u001b[33mWARN: gym.spaces.Box autodetected dtype as <class 'numpy.float32'>. Please provide explicit dtype.\u001b[0m\n"
     ]
    }
   ],
   "source": [
    "env = gym.make('CartPole-v1')\n",
    "base_config = {\n",
    "    'layer_sizes': [128],\n",
    "    'activation': 'relu'\n",
    "}\n",
    "dqn_config = {\n",
    "    'gamma': 0.99,\n",
    "    'tau': 1.0,\n",
    "    'optimizer': optimizers.SGD(lr=0.03)\n",
    "}\n",
    "topology = models.topology.DenseTopology(**base_config)\n",
    "model = models.DQNModel(topology, **dqn_config)\n",
    "\n",
    "epsilon_schedule = auxiliary.schedules.LinearDecay(1.0, 0.1, 500, -1)\n",
    "actor = actors.EpsilonGreedyActor(epsilon_schedule)\n",
    "buffer_size = 10000\n",
    "batch_size = 64\n",
    "\n",
    "pline = pipeline.Pipeline()\n",
    "agent = agents.Agent(env,\n",
    "                     state_pipeline=pline,\n",
    "                     model=model, actor=actor,\n",
    "                     buffer_size=buffer_size, batch_size=batch_size,\n",
    "                     report_freq=10, warmup_length=50)"
   ]
  },
  {
   "cell_type": "code",
   "execution_count": 3,
   "metadata": {},
   "outputs": [
    {
     "name": "stdout",
     "output_type": "stream",
     "text": [
      "Terminating.\n"
     ]
    },
    {
     "name": "stderr",
     "output_type": "stream",
     "text": [
      "/home/pavlov/models/dqn.py:76: RuntimeWarning: invalid value encountered in multiply\n",
      "  targets = targets * actions  # makes it one-hot, value in the place of the action\n"
     ]
    },
    {
     "ename": "ValueError",
     "evalue": "Model has hit NaN weights: check #37 here: https://tinyurl.com/yahuwbno",
     "output_type": "error",
     "traceback": [
      "\u001b[0;31m---------------------------------------------------------------------------\u001b[0m",
      "\u001b[0;31mValueError\u001b[0m                                Traceback (most recent call last)",
      "\u001b[0;32m<ipython-input-3-8c0c8de593d1>\u001b[0m in \u001b[0;36m<module>\u001b[0;34m()\u001b[0m\n\u001b[0;32m----> 1\u001b[0;31m \u001b[0magent\u001b[0m\u001b[0;34m.\u001b[0m\u001b[0mrun_indefinitely\u001b[0m\u001b[0;34m(\u001b[0m\u001b[0;34m)\u001b[0m\u001b[0;34m\u001b[0m\u001b[0m\n\u001b[0m",
      "\u001b[0;32m/home/pavlov/agents/agents.py\u001b[0m in \u001b[0;36mrun_indefinitely\u001b[0;34m(self, render, log)\u001b[0m\n\u001b[1;32m    190\u001b[0m         \u001b[0;32mwith\u001b[0m \u001b[0mutil\u001b[0m\u001b[0;34m.\u001b[0m\u001b[0minterrupt\u001b[0m\u001b[0;34m.\u001b[0m\u001b[0mAtomicLoop\u001b[0m\u001b[0;34m(\u001b[0m\u001b[0;34m)\u001b[0m \u001b[0;32mas\u001b[0m \u001b[0mloop\u001b[0m\u001b[0;34m:\u001b[0m\u001b[0;34m\u001b[0m\u001b[0m\n\u001b[1;32m    191\u001b[0m             \u001b[0;32mwhile\u001b[0m \u001b[0mloop\u001b[0m\u001b[0;34m.\u001b[0m\u001b[0mrun\u001b[0m\u001b[0;34m:\u001b[0m\u001b[0;34m\u001b[0m\u001b[0m\n\u001b[0;32m--> 192\u001b[0;31m                 \u001b[0mself\u001b[0m\u001b[0;34m.\u001b[0m\u001b[0mrun_episode\u001b[0m\u001b[0;34m(\u001b[0m\u001b[0mrender\u001b[0m\u001b[0;34m=\u001b[0m\u001b[0mrender\u001b[0m\u001b[0;34m,\u001b[0m \u001b[0mdo_logging\u001b[0m\u001b[0;34m=\u001b[0m\u001b[0mlog\u001b[0m\u001b[0;34m)\u001b[0m\u001b[0;34m\u001b[0m\u001b[0m\n\u001b[0m",
      "\u001b[0;32m/home/pavlov/agents/agents.py\u001b[0m in \u001b[0;36mrun_episode\u001b[0;34m(self, render, do_logging)\u001b[0m\n\u001b[1;32m    179\u001b[0m             \u001b[0mtotal_reward\u001b[0m \u001b[0;34m+=\u001b[0m \u001b[0mreward\u001b[0m\u001b[0;34m\u001b[0m\u001b[0m\n\u001b[1;32m    180\u001b[0m             \u001b[0;32mif\u001b[0m \u001b[0mdone\u001b[0m\u001b[0;34m:\u001b[0m\u001b[0;34m\u001b[0m\u001b[0m\n\u001b[0;32m--> 181\u001b[0;31m                 \u001b[0mself\u001b[0m\u001b[0;34m.\u001b[0m\u001b[0mmonitor\u001b[0m\u001b[0;34m.\u001b[0m\u001b[0mnew_episode\u001b[0m\u001b[0;34m(\u001b[0m\u001b[0mdo_logging\u001b[0m\u001b[0;34m)\u001b[0m\u001b[0;34m\u001b[0m\u001b[0m\n\u001b[0m\u001b[1;32m    182\u001b[0m                 \u001b[0mself\u001b[0m\u001b[0;34m.\u001b[0m\u001b[0mreset\u001b[0m\u001b[0;34m(\u001b[0m\u001b[0;34m)\u001b[0m\u001b[0;34m\u001b[0m\u001b[0m\n\u001b[1;32m    183\u001b[0m                 \u001b[0;32mbreak\u001b[0m\u001b[0;34m\u001b[0m\u001b[0m\n",
      "\u001b[0;32m/home/pavlov/auxiliary/monitor.py\u001b[0m in \u001b[0;36mnew_episode\u001b[0;34m(self, do_logging)\u001b[0m\n\u001b[1;32m     88\u001b[0m         \u001b[0;32mif\u001b[0m \u001b[0mself\u001b[0m\u001b[0;34m.\u001b[0m\u001b[0magent\u001b[0m\u001b[0;34m.\u001b[0m\u001b[0mmodel\u001b[0m\u001b[0;34m.\u001b[0m\u001b[0mhas_nan\u001b[0m\u001b[0;34m(\u001b[0m\u001b[0;34m)\u001b[0m\u001b[0;34m:\u001b[0m\u001b[0;34m\u001b[0m\u001b[0m\n\u001b[1;32m     89\u001b[0m             \u001b[0mmsg\u001b[0m \u001b[0;34m=\u001b[0m \u001b[0;34m\"Model has hit NaN weights: check #37 here: https://tinyurl.com/yahuwbno\"\u001b[0m\u001b[0;34m\u001b[0m\u001b[0m\n\u001b[0;32m---> 90\u001b[0;31m             \u001b[0;32mraise\u001b[0m \u001b[0mValueError\u001b[0m\u001b[0;34m(\u001b[0m\u001b[0mmsg\u001b[0m\u001b[0;34m)\u001b[0m\u001b[0;34m\u001b[0m\u001b[0m\n\u001b[0m\u001b[1;32m     91\u001b[0m         \u001b[0;32mif\u001b[0m \u001b[0mdo_logging\u001b[0m\u001b[0;34m:\u001b[0m\u001b[0;34m\u001b[0m\u001b[0m\n\u001b[1;32m     92\u001b[0m             \u001b[0mself\u001b[0m\u001b[0;34m.\u001b[0m\u001b[0mlog_to_stdout\u001b[0m\u001b[0;34m(\u001b[0m\u001b[0;34m)\u001b[0m\u001b[0;34m\u001b[0m\u001b[0m\n",
      "\u001b[0;31mValueError\u001b[0m: Model has hit NaN weights: check #37 here: https://tinyurl.com/yahuwbno"
     ]
    }
   ],
   "source": [
    "agent.run_indefinitely()"
   ]
  },
  {
   "cell_type": "code",
   "execution_count": 16,
   "metadata": {},
   "outputs": [
    {
     "data": {
      "text/plain": [
       "True"
      ]
     },
     "execution_count": 16,
     "metadata": {},
     "output_type": "execute_result"
    }
   ],
   "source": [
    "any(np.isnan(w).any() for w in model.model.get_weights())"
   ]
  },
  {
   "cell_type": "code",
   "execution_count": null,
   "metadata": {},
   "outputs": [],
   "source": [
    "# CARTPOLE\n",
    "\n",
    "env = gym.make('Breakout-v0')\n",
    "\n",
    "topology_config = {\n",
    "    'layer_sizes': [128],\n",
    "    'activation': 'relu'\n",
    "}\n",
    "topology = models.topology.DenseTopology(**topology_config)\n",
    "\n",
    "dqn_config = {\n",
    "    'gamma': 0.99,\n",
    "    'tau': 1.0,\n",
    "    'optimizer': optimizers.Adam(0.0001)\n",
    "}\n",
    "model = models.DQNModel(topology, **dqn_config)\n",
    "\n",
    "epsilon_schedule = auxiliary.schedules.LinearDecay(1.0, 0.1, 500, -1)\n",
    "actor = actors.EpsilonGreedyActor(epsilon_schedule)\n",
    "buffer_size = 10000\n",
    "batch_size = 64\n",
    "\n",
    "pline = pipeline.Pipeline()\n",
    "pline.add(transformations.rgb_to_grey())\n",
    "pline.add(transformations.downsample(new_shape=(84, 84)))\n",
    "pline.add(transformations.combine_consecutive(2, 'max'))\n",
    "pline.add(transformations.stack_consecutive(4))\n",
    "\n",
    "agent = agents.Agent(env,\n",
    "                     state_pipeline=pline,\n",
    "                     model=model, actor=actor,\n",
    "                     buffer_size=buffer_size, batch_size=batch_size,\n",
    "                     report_freq=1, warmup_length=5)\n",
    "agent.run_episode(render=True)"
   ]
  },
  {
   "cell_type": "code",
   "execution_count": null,
   "metadata": {},
   "outputs": [],
   "source": [
    "agent.episode_to_mp4(1, '/home/videos')"
   ]
  }
 ],
 "metadata": {
  "kernelspec": {
   "display_name": "Python 3",
   "language": "python",
   "name": "python3"
  },
  "language_info": {
   "codemirror_mode": {
    "name": "ipython",
    "version": 3
   },
   "file_extension": ".py",
   "mimetype": "text/x-python",
   "name": "python",
   "nbconvert_exporter": "python",
   "pygments_lexer": "ipython3",
   "version": "3.6.5"
  }
 },
 "nbformat": 4,
 "nbformat_minor": 2
}
