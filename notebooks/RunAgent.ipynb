{
 "cells": [
  {
   "cell_type": "code",
   "execution_count": 1,
   "metadata": {},
   "outputs": [
    {
     "name": "stderr",
     "output_type": "stream",
     "text": [
      "Using TensorFlow backend.\n"
     ]
    }
   ],
   "source": [
    "import os\n",
    "os.chdir('/home')\n",
    "\n",
    "import gym\n",
    "import tensorflow as tf\n",
    "from tensorflow.keras import optimizers\n",
    "import pavlov"
   ]
  },
  {
   "cell_type": "code",
   "execution_count": 2,
   "metadata": {},
   "outputs": [
    {
     "name": "stdout",
     "output_type": "stream",
     "text": [
      "\u001b[33mWARN: gym.spaces.Box autodetected dtype as <class 'numpy.float32'>. Please provide explicit dtype.\u001b[0m\n"
     ]
    }
   ],
   "source": [
    "# arrange\n",
    "env = gym.make(\"CartPole-v0\")\n",
    "base_config = {\n",
    "    'layer_sizes': [128],\n",
    "    'activation': 'relu'\n",
    "}\n",
    "dqn_config = {\n",
    "    'gamma': 0.99,\n",
    "    'tau': 1.0,\n",
    "    'optimizer': tf.keras.optimizers.Adam(lr=0.0001)\n",
    "}\n",
    "topology = pavlov.models.topology.DenseTopology(**base_config)\n",
    "model = pavlov.models.DQNModel(topology, **dqn_config)\n",
    "\n",
    "epsilon_schedule = pavlov.auxiliary.schedules.LinearDecaySchedule(1.0, 0.1, 500, -1)\n",
    "actor = pavlov.actors.EpsilonGreedyActor(epsilon_schedule)\n",
    "buffer_size = 10000\n",
    "batch_size = 2\n",
    "\n",
    "pline = pavlov.pipeline.Pipeline()\n",
    "agent = pavlov.agents.Agent(env,\n",
    "                            state_pipeline=pline,\n",
    "                            model=model, actor=actor,\n",
    "                            buffer_size=buffer_size, batch_size=batch_size,\n",
    "                            report_frequency=10, warmup_length=50)\n",
    "\n",
    "\n",
    "# act\n",
    "agent.run_episode(render=False, do_logging=True)"
   ]
  },
  {
   "cell_type": "code",
   "execution_count": 3,
   "metadata": {},
   "outputs": [
    {
     "name": "stdout",
     "output_type": "stream",
     "text": [
      "End of episode 10. Last 10 episodes: Average reward: 22.9. Average duration: 22.9.\n",
      "End of episode 20. Last 10 episodes: Average reward: 20.9. Average duration: 20.9.\n",
      "End of episode 30. Last 10 episodes: Average reward: 20.7. Average duration: 20.7.\n",
      "End of episode 40. Last 10 episodes: Average reward: 17.2. Average duration: 17.2.\n",
      "End of episode 50. Last 10 episodes: Average reward: 19.4. Average duration: 19.4.\n",
      "End of episode 60. Last 10 episodes: Average reward: 21.6. Average duration: 21.6.\n",
      "End of episode 70. Last 10 episodes: Average reward: 23.5. Average duration: 23.5.\n",
      "End of episode 80. Last 10 episodes: Average reward: 21.1. Average duration: 21.1.\n",
      "End of episode 90. Last 10 episodes: Average reward: 19.4. Average duration: 19.4.\n",
      "End of episode 100. Last 10 episodes: Average reward: 20.8. Average duration: 20.8.\n",
      "End of episode 110. Last 10 episodes: Average reward: 21.7. Average duration: 21.7.\n",
      "End of episode 120. Last 10 episodes: Average reward: 16.0. Average duration: 16.0.\n",
      "End of episode 130. Last 10 episodes: Average reward: 17.5. Average duration: 17.5.\n",
      "End of episode 140. Last 10 episodes: Average reward: 19.6. Average duration: 19.6.\n",
      "End of episode 150. Last 10 episodes: Average reward: 23.3. Average duration: 23.3.\n",
      "End of episode 160. Last 10 episodes: Average reward: 17.2. Average duration: 17.2.\n",
      "End of episode 170. Last 10 episodes: Average reward: 21.5. Average duration: 21.5.\n",
      "End of episode 180. Last 10 episodes: Average reward: 19.3. Average duration: 19.3.\n",
      "End of episode 190. Last 10 episodes: Average reward: 19.7. Average duration: 19.7.\n",
      "SIGINT(2) recognized; finishing current episode before terminating\n",
      "Terminating.\n"
     ]
    }
   ],
   "source": [
    "agent.run_indefinitely()"
   ]
  },
  {
   "cell_type": "code",
   "execution_count": 4,
   "metadata": {},
   "outputs": [
    {
     "name": "stdout",
     "output_type": "stream",
     "text": [
      "\u001b[33mWARN: gym.spaces.Box autodetected dtype as <class 'numpy.float32'>. Please provide explicit dtype.\u001b[0m\n",
      "\u001b[33mWARN: gym.spaces.Box autodetected dtype as <class 'numpy.float32'>. Please provide explicit dtype.\u001b[0m\n"
     ]
    }
   ],
   "source": [
    "env = gym.make('MountainCarContinuous-v0')\n",
    "base_config = {\n",
    "    'layer_sizes': [128],\n",
    "    'activation': 'relu'\n",
    "}\n",
    "ddpg_config = {\n",
    "    'actor_activation': 'softmax',\n",
    "    'gamma': 0.99,\n",
    "    'tau': 0.1,\n",
    "    'actor_optimizer': tf.train.AdamOptimizer(0.0001),\n",
    "    'critic_optimizer': tf.keras.optimizers.Adam(lr=0.0001)\n",
    "}\n",
    "topology = pavlov.models.topology.DenseTopology(**base_config)\n",
    "model = pavlov.models.DDPGModel(topology, **ddpg_config)\n",
    "\n",
    "epsilon_schedule = pavlov.auxiliary.schedules.LinearDecaySchedule(1.0, 0.1, 500, -1)\n",
    "actor = pavlov.actors.EpsilonGreedyActor(epsilon_schedule)\n",
    "buffer_size = 10000\n",
    "batch_size = 64\n",
    "\n",
    "pline = pavlov.pipeline.Pipeline()\n",
    "agent = pavlov.agents.Agent(env,\n",
    "                            state_pipeline=pline,\n",
    "                            model=model, actor=actor,\n",
    "                            buffer_size=buffer_size, batch_size=batch_size,\n",
    "                            report_frequency=1, warmup_length=50)"
   ]
  },
  {
   "cell_type": "code",
   "execution_count": 5,
   "metadata": {},
   "outputs": [
    {
     "name": "stdout",
     "output_type": "stream",
     "text": [
      "End of episode 1. Last 1 episodes: Average reward: -32.86599878779518. Average duration: 999.0.\n",
      "End of episode 2. Last 1 episodes: Average reward: -31.78039215711873. Average duration: 999.0.\n",
      "End of episode 3. Last 1 episodes: Average reward: -33.89045084164827. Average duration: 999.0.\n",
      "SIGINT(2) recognized; finishing current episode before terminating\n",
      "End of episode 4. Last 1 episodes: Average reward: -32.85705727746956. Average duration: 999.0.\n",
      "Terminating.\n"
     ]
    }
   ],
   "source": [
    "agent.run_indefinitely()"
   ]
  },
  {
   "cell_type": "code",
   "execution_count": null,
   "metadata": {},
   "outputs": [],
   "source": [
    "env = gym.make('Breakout-v0')\n",
    "topology_config = {\n",
    "    'layer_sizes': [128],\n",
    "    'activation': 'relu'\n",
    "}\n",
    "topology = pavlov.models.topology.DenseTopology(**topology_config)\n",
    "\n",
    "dqn_config = {\n",
    "    'gamma': 0.99,\n",
    "    'tau': 1.0,\n",
    "    'optimizer': tf.keras.optimizers.Adam(0.0001)\n",
    "}\n",
    "model = pavlov.models.DQNModel(topology, **dqn_config)\n",
    "\n",
    "epsilon_schedule = pavlov.auxiliary.schedules.LinearDecaySchedule(1.0, 0.1, 500, -1)\n",
    "actor = pavlov.actors.EpsilonGreedyActor(epsilon_schedule)\n",
    "buffer_size = 10000\n",
    "batch_size = 64\n",
    "\n",
    "pline = pavlov.pipeline.Pipeline()\n",
    "pline.add(pavlov.transformations.rgb_to_grey())\n",
    "pline.add(pavlov.transformations.downsample(new_shape=(84, 84)))\n",
    "pline.add(pavlov.transformations.combine_consecutive(2, 'max'))\n",
    "pline.add(pavlov.transformations.stack_consecutive(4))\n",
    "\n",
    "agent = pavlov.agents.Agent(env,\n",
    "                            state_pipeline=pline,\n",
    "                            model=model, actor=actor,\n",
    "                            buffer_size=buffer_size, batch_size=batch_size,\n",
    "                            report_frequency=1, warmup_length=5)\n",
    "agent.run_episode(render=False, do_logging=True)"
   ]
  },
  {
   "cell_type": "code",
   "execution_count": null,
   "metadata": {},
   "outputs": [],
   "source": [
    "agent.episode_to_mp4(1, '/home/videos')"
   ]
  }
 ],
 "metadata": {
  "kernelspec": {
   "display_name": "Python 3",
   "language": "python",
   "name": "python3"
  },
  "language_info": {
   "codemirror_mode": {
    "name": "ipython",
    "version": 3
   },
   "file_extension": ".py",
   "mimetype": "text/x-python",
   "name": "python",
   "nbconvert_exporter": "python",
   "pygments_lexer": "ipython3",
   "version": "3.6.5"
  }
 },
 "nbformat": 4,
 "nbformat_minor": 2
}
