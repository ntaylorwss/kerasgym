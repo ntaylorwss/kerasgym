{
 "cells": [
  {
   "cell_type": "code",
   "execution_count": null,
   "metadata": {},
   "outputs": [],
   "source": [
    "import os\n",
    "os.chdir('/home')\n",
    "\n",
    "import numpy as np\n",
    "import pandas as pd\n",
    "import gym\n",
    "\n",
    "from kerasgym import preprocessing\n",
    "from kerasgym import models\n",
    "from kerasgym import exploration\n",
    "from kerasgym import agents\n",
    "\n",
    "from keras import optimizers"
   ]
  },
  {
   "cell_type": "code",
   "execution_count": null,
   "metadata": {},
   "outputs": [],
   "source": [
    "# CARTPOLE\n",
    "\n",
    "env = gym.make('CartPole-v1')\n",
    "env.reset()\n",
    "\n",
    "base_config = {\n",
    "    'in_shape': env.observation_space.shape,\n",
    "    'layer_sizes': [64, 32, 16],\n",
    "    'activation': 'relu'\n",
    "}\n",
    "base_model = models.base.dense_model_base(**base_config)\n",
    "\n",
    "dqn_config = {\n",
    "    'gamma': 0.99,\n",
    "    'tau': 1.0,\n",
    "    'optimizer': optimizers.Adam(lr=0.001)\n",
    "}\n",
    "model = models.DQNModel(base_model, **dqn_config)\n",
    "\n",
    "schedule = exploration.schedules.LinearDecay(1.0, 0.1, 500, -1)\n",
    "actor = exploration.actors.EpsilonGreedyActor(epsilon_schedule=schedule)\n",
    "buffer_size = 10000\n",
    "batch_size = 32\n",
    "\n",
    "agent = agents.Agent(env, state_pipeline=[], model=model, actor=actor, \n",
    "                     buffer_size=buffer_size, batch_size=batch_size,\n",
    "                     report_freq=10, warmup_length=0)\n",
    "agent.reset()\n",
    "agent.run_indefinitely()"
   ]
  }
 ],
 "metadata": {
  "kernelspec": {
   "display_name": "Python 3",
   "language": "python",
   "name": "python3"
  },
  "language_info": {
   "codemirror_mode": {
    "name": "ipython",
    "version": 3
   },
   "file_extension": ".py",
   "mimetype": "text/x-python",
   "name": "python",
   "nbconvert_exporter": "python",
   "pygments_lexer": "ipython3",
   "version": "3.6.3"
  }
 },
 "nbformat": 4,
 "nbformat_minor": 2
}
